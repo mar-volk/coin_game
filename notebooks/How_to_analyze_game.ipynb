{
 "cells": [
  {
   "cell_type": "markdown",
   "id": "0ac8ee99",
   "metadata": {},
   "source": [
    "# How to analyze game"
   ]
  },
  {
   "cell_type": "code",
   "execution_count": 1,
   "id": "379debcf",
   "metadata": {},
   "outputs": [],
   "source": [
    "from coin_game import GameStatus"
   ]
  },
  {
   "cell_type": "code",
   "execution_count": 2,
   "id": "ff79ae4e",
   "metadata": {},
   "outputs": [],
   "source": [
    "gs = GameStatus([1, 2, 3, 4])"
   ]
  },
  {
   "cell_type": "code",
   "execution_count": 3,
   "id": "f6c4793c",
   "metadata": {},
   "outputs": [
    {
     "name": "stdout",
     "output_type": "stream",
     "text": [
      "coin_placement: [1, 2, 3, 4]\n",
      "●\n",
      "●●\n",
      "●●●\n",
      "●●●●\n",
      "If you do everything right, you can win.\n",
      "Winning moves (position, number of coins to remove): [(3, 4)]\n",
      "The game is not finished.\n"
     ]
    }
   ],
   "source": [
    "gs.analyze()"
   ]
  },
  {
   "cell_type": "code",
   "execution_count": 4,
   "id": "95e1c2f3",
   "metadata": {},
   "outputs": [],
   "source": [
    "gs.remove_coin(3, 4)  # move of player A"
   ]
  },
  {
   "cell_type": "code",
   "execution_count": 5,
   "id": "bedc7483",
   "metadata": {},
   "outputs": [
    {
     "name": "stdout",
     "output_type": "stream",
     "text": [
      "coin_placement: [1, 2, 3, 0]\n",
      "●\n",
      "●●\n",
      "●●●\n",
      "_\n",
      "If your opponent makes everything right, he will win.\n",
      "Winning moves (position, number of coins to remove): []\n",
      "The game is not finished.\n"
     ]
    }
   ],
   "source": [
    "gs.analyze()  # perspective of player B"
   ]
  },
  {
   "cell_type": "code",
   "execution_count": 6,
   "id": "ba462633",
   "metadata": {},
   "outputs": [],
   "source": [
    "gs.remove_coin(2, 3)  # move of player B"
   ]
  },
  {
   "cell_type": "code",
   "execution_count": 7,
   "id": "a31fc312",
   "metadata": {},
   "outputs": [
    {
     "name": "stdout",
     "output_type": "stream",
     "text": [
      "coin_placement: [1, 2, 0, 0]\n",
      "●\n",
      "●●\n",
      "_\n",
      "_\n",
      "If you do everything right, you can win.\n",
      "Winning moves (position, number of coins to remove): [(1, 2)]\n",
      "The game is not finished.\n"
     ]
    }
   ],
   "source": [
    "gs.analyze()  # perspective of player A"
   ]
  },
  {
   "cell_type": "code",
   "execution_count": 8,
   "id": "f3e9dc32",
   "metadata": {},
   "outputs": [],
   "source": [
    "gs.remove_coin(1, 2)  # move of player A"
   ]
  },
  {
   "cell_type": "code",
   "execution_count": 9,
   "id": "fcbb967d",
   "metadata": {},
   "outputs": [
    {
     "name": "stdout",
     "output_type": "stream",
     "text": [
      "coin_placement: [1, 0, 0, 0]\n",
      "●\n",
      "_\n",
      "_\n",
      "_\n",
      "If your opponent makes everything right, he will win.\n",
      "Winning moves (position, number of coins to remove): []\n",
      "The game is not finished.\n"
     ]
    }
   ],
   "source": [
    "gs.analyze()  # perspective of player B"
   ]
  },
  {
   "cell_type": "code",
   "execution_count": 10,
   "id": "a53b58f3",
   "metadata": {},
   "outputs": [],
   "source": [
    "gs.remove_coin(0, 1)  # move of player B"
   ]
  },
  {
   "cell_type": "code",
   "execution_count": 11,
   "id": "5a3cc6ed",
   "metadata": {},
   "outputs": [
    {
     "name": "stdout",
     "output_type": "stream",
     "text": [
      "coin_placement: [0, 0, 0, 0]\n",
      "_\n",
      "_\n",
      "_\n",
      "_\n",
      "If you do everything right, you can win.\n",
      "Winning moves (position, number of coins to remove): []\n",
      "The game is not finished.\n"
     ]
    }
   ],
   "source": [
    "gs.analyze()  # perspective of player A"
   ]
  },
  {
   "cell_type": "code",
   "execution_count": null,
   "id": "222ca89b",
   "metadata": {},
   "outputs": [],
   "source": []
  }
 ],
 "metadata": {
  "kernelspec": {
   "display_name": "Python 3 (ipykernel)",
   "language": "python",
   "name": "python3"
  },
  "language_info": {
   "codemirror_mode": {
    "name": "ipython",
    "version": 3
   },
   "file_extension": ".py",
   "mimetype": "text/x-python",
   "name": "python",
   "nbconvert_exporter": "python",
   "pygments_lexer": "ipython3",
   "version": "3.10.4"
  }
 },
 "nbformat": 4,
 "nbformat_minor": 5
}
